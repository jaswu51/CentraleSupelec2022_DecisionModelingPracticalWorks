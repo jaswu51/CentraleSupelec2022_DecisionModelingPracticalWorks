{
 "cells": [
  {
   "cell_type": "markdown",
   "metadata": {},
   "source": [
    "# Question 1\n",
    "I will built a dataframe to present the data"
   ]
  },
  {
   "cell_type": "code",
   "execution_count": 221,
   "metadata": {},
   "outputs": [],
   "source": [
    "import pandas as pd\n",
    "import numpy as np\n",
    "from numpy import nan \n",
    "from numpy.linalg import norm\n"
   ]
  },
  {
   "cell_type": "code",
   "execution_count": 222,
   "metadata": {},
   "outputs": [],
   "source": [
    "def Convert(string):\n",
    "    li = list(string.split(\",\"))\n",
    "    return li\n",
    "Critiques=Convert('Lisa Rose,Gene Seymour,Michael Philips,Claudia Puig,Mick Lasalle,Jack Matthews,Toby,Anne')"
   ]
  },
  {
   "cell_type": "code",
   "execution_count": 223,
   "metadata": {},
   "outputs": [
    {
     "data": {
      "text/html": [
       "<div>\n",
       "<style scoped>\n",
       "    .dataframe tbody tr th:only-of-type {\n",
       "        vertical-align: middle;\n",
       "    }\n",
       "\n",
       "    .dataframe tbody tr th {\n",
       "        vertical-align: top;\n",
       "    }\n",
       "\n",
       "    .dataframe thead th {\n",
       "        text-align: right;\n",
       "    }\n",
       "</style>\n",
       "<table border=\"1\" class=\"dataframe\">\n",
       "  <thead>\n",
       "    <tr style=\"text-align: right;\">\n",
       "      <th></th>\n",
       "      <th>Lisa Rose</th>\n",
       "      <th>Gene Seymour</th>\n",
       "      <th>Michael Philips</th>\n",
       "      <th>Claudia Puig</th>\n",
       "      <th>Mick Lasalle</th>\n",
       "      <th>Jack Matthews</th>\n",
       "      <th>Toby</th>\n",
       "      <th>Anne</th>\n",
       "    </tr>\n",
       "  </thead>\n",
       "  <tbody>\n",
       "    <tr>\n",
       "      <th>Lady</th>\n",
       "      <td>2.5</td>\n",
       "      <td>3.0</td>\n",
       "      <td>2.5</td>\n",
       "      <td>NaN</td>\n",
       "      <td>3.0</td>\n",
       "      <td>3.0</td>\n",
       "      <td>NaN</td>\n",
       "      <td>1.5</td>\n",
       "    </tr>\n",
       "    <tr>\n",
       "      <th>Snakes</th>\n",
       "      <td>3.5</td>\n",
       "      <td>3.5</td>\n",
       "      <td>3.0</td>\n",
       "      <td>3.5</td>\n",
       "      <td>4.0</td>\n",
       "      <td>4.0</td>\n",
       "      <td>4.5</td>\n",
       "      <td>NaN</td>\n",
       "    </tr>\n",
       "    <tr>\n",
       "      <th>Luck</th>\n",
       "      <td>3.0</td>\n",
       "      <td>1.5</td>\n",
       "      <td>NaN</td>\n",
       "      <td>3.0</td>\n",
       "      <td>2.0</td>\n",
       "      <td>NaN</td>\n",
       "      <td>NaN</td>\n",
       "      <td>4.0</td>\n",
       "    </tr>\n",
       "    <tr>\n",
       "      <th>Superman</th>\n",
       "      <td>3.5</td>\n",
       "      <td>5.0</td>\n",
       "      <td>3.5</td>\n",
       "      <td>4.0</td>\n",
       "      <td>3.0</td>\n",
       "      <td>5.0</td>\n",
       "      <td>4.0</td>\n",
       "      <td>NaN</td>\n",
       "    </tr>\n",
       "    <tr>\n",
       "      <th>Dupree</th>\n",
       "      <td>2.5</td>\n",
       "      <td>3.5</td>\n",
       "      <td>NaN</td>\n",
       "      <td>2.5</td>\n",
       "      <td>2.0</td>\n",
       "      <td>3.5</td>\n",
       "      <td>1.0</td>\n",
       "      <td>2.0</td>\n",
       "    </tr>\n",
       "    <tr>\n",
       "      <th>Night</th>\n",
       "      <td>3.0</td>\n",
       "      <td>3.0</td>\n",
       "      <td>4.0</td>\n",
       "      <td>4.5</td>\n",
       "      <td>3.0</td>\n",
       "      <td>3.0</td>\n",
       "      <td>NaN</td>\n",
       "      <td>NaN</td>\n",
       "    </tr>\n",
       "  </tbody>\n",
       "</table>\n",
       "</div>"
      ],
      "text/plain": [
       "          Lisa Rose  Gene Seymour  Michael Philips  Claudia Puig  \\\n",
       "Lady            2.5           3.0              2.5           NaN   \n",
       "Snakes          3.5           3.5              3.0           3.5   \n",
       "Luck            3.0           1.5              NaN           3.0   \n",
       "Superman        3.5           5.0              3.5           4.0   \n",
       "Dupree          2.5           3.5              NaN           2.5   \n",
       "Night           3.0           3.0              4.0           4.5   \n",
       "\n",
       "          Mick Lasalle  Jack Matthews  Toby  Anne  \n",
       "Lady               3.0            3.0   NaN   1.5  \n",
       "Snakes             4.0            4.0   4.5   NaN  \n",
       "Luck               2.0            NaN   NaN   4.0  \n",
       "Superman           3.0            5.0   4.0   NaN  \n",
       "Dupree             2.0            3.5   1.0   2.0  \n",
       "Night              3.0            3.0   NaN   NaN  "
      ]
     },
     "execution_count": 223,
     "metadata": {},
     "output_type": "execute_result"
    }
   ],
   "source": [
    "data = {\n",
    "    'Lady':[2.5,3,2.5,nan,3,3,nan,1.5],\n",
    "    'Snakes':[3.5,3.5,3,3.5,4,4,4.5,nan],\n",
    "    'Luck':[3,1.5,nan,3,2,nan,nan,4],\n",
    "    'Superman':[3.5,5,3.5,4,3,5,4,nan],\n",
    "    'Dupree':[2.5,3.5,nan,2.5,2.0,3.5,1,2],\n",
    "    'Night':[3,3,4,4.5,3,3,nan,nan]\n",
    "    }\n",
    "critiques = pd.DataFrame(data,index=Critiques).T\n",
    "critiques"
   ]
  },
  {
   "cell_type": "markdown",
   "metadata": {},
   "source": [
    "# Question 2\n",
    "(a) To compute a simple similarity score, we use the Manhattan distance or an Euclidean distance."
   ]
  },
  {
   "cell_type": "code",
   "execution_count": 224,
   "metadata": {},
   "outputs": [
    {
     "data": {
      "text/plain": [
       "1.0"
      ]
     },
     "execution_count": 224,
     "metadata": {},
     "output_type": "execute_result"
    }
   ],
   "source": [
    "def sim_distanceManhattan(person1,person2):\n",
    "    sum=0\n",
    "    for val1, val2 in zip(person1,person2):\n",
    "        if np.isnan(val1) or np.isnan(val2):\n",
    "            pass\n",
    "        else:\n",
    "            sum=sum+np.abs(val1-val2)\n",
    "    return sum\n",
    "\n",
    "def sim_distanceEuclidienne(person1,person2):\n",
    "    # sum=0\n",
    "    # for val1, val2 in zip(person1,person2):\n",
    "    #     if val1 is not None and val2 is not None:\n",
    "    #         sum=sum+np.sqrt(abs(val1-val2))\n",
    "    # return sum\n",
    "    return norm(person1-person2)\n",
    "sim_distanceManhattan(critiques['Toby'],critiques['Anne'])"
   ]
  },
  {
   "cell_type": "markdown",
   "metadata": {},
   "source": [
    "(a) To compute a simple similarity score, we use the Manhattan distance or an Euclidean distance."
   ]
  },
  {
   "cell_type": "code",
   "execution_count": 225,
   "metadata": {},
   "outputs": [],
   "source": [
    "# #fill the null values via mean of that movie\n",
    "# #otherwise we can not compute the distance of two persons directly\n",
    "# for idx in critiques.index:\n",
    "#     critiques.loc[idx]=critiques.loc[idx].fillna(critiques.loc[idx].mean())\n",
    "# critiques"
   ]
  },
  {
   "cell_type": "code",
   "execution_count": 226,
   "metadata": {},
   "outputs": [
    {
     "data": {
      "text/plain": [
       "[(1.0, 'Anne'),\n",
       " (2.0, 'Michael Philips'),\n",
       " (2.5, 'Claudia Puig'),\n",
       " (2.5, 'Mick Lasalle'),\n",
       " (3.0, 'Lisa Rose'),\n",
       " (4.0, 'Jack Matthews'),\n",
       " (4.5, 'Gene Seymour')]"
      ]
     },
     "execution_count": 226,
     "metadata": {},
     "output_type": "execute_result"
    }
   ],
   "source": [
    "def computeNearestNeighbor(nouveauCritique, Critiques):\n",
    "    distances=[]\n",
    "    for critique in Critiques:\n",
    "        if critique!=nouveauCritique:\n",
    "            distance=sim_distanceManhattan(critiques[critique],critiques[nouveauCritique])\n",
    "            distances.append((distance,critique))\n",
    "    distances.sort()\n",
    "    return distances\n",
    "computeNearestNeighbor('Toby',Critiques)"
   ]
  },
  {
   "cell_type": "code",
   "execution_count": 227,
   "metadata": {},
   "outputs": [
    {
     "name": "stdout",
     "output_type": "stream",
     "text": [
      "Anne\n",
      "1.5\n",
      "4.0\n"
     ]
    },
    {
     "data": {
      "text/plain": [
       "[('Lady', 1.5), ('Luck', 4.0)]"
      ]
     },
     "execution_count": 227,
     "metadata": {},
     "output_type": "execute_result"
    }
   ],
   "source": [
    "movies=(critiques.index)\n",
    "def recommendNearestNeighbor(nouveauCritique, Critiques):\n",
    "    recommendMovies=[]\n",
    "    NearestNeighbor= computeNearestNeighbor(nouveauCritique,Critiques)[0][1]\n",
    "    print(NearestNeighbor)\n",
    "    for i in range(0,len(critiques[nouveauCritique])):\n",
    "        if np.isnan(critiques[nouveauCritique][i]) and not np.isnan(critiques[NearestNeighbor][i]):\n",
    "            print(critiques[NearestNeighbor][i])\n",
    "            recommendMovies.append((movies[i],critiques[NearestNeighbor][i]))\n",
    "    return recommendMovies\n",
    "recommendNearestNeighbor('Toby',Critiques)"
   ]
  }
 ],
 "metadata": {
  "kernelspec": {
   "display_name": "Python 3.8.0b2 64-bit",
   "language": "python",
   "name": "python3"
  },
  "language_info": {
   "codemirror_mode": {
    "name": "ipython",
    "version": 3
   },
   "file_extension": ".py",
   "mimetype": "text/x-python",
   "name": "python",
   "nbconvert_exporter": "python",
   "pygments_lexer": "ipython3",
   "version": "3.8.0b2"
  },
  "orig_nbformat": 4,
  "vscode": {
   "interpreter": {
    "hash": "aee8b7b246df8f9039afb4144a1f6fd8d2ca17a180786b69acc140d282b71a49"
   }
  }
 },
 "nbformat": 4,
 "nbformat_minor": 2
}
