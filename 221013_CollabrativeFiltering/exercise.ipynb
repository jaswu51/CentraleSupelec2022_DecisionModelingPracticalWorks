{
 "cells": [
  {
   "cell_type": "markdown",
   "metadata": {},
   "source": [
    "# Question 1\n",
    "I will built a dataframe to present the data"
   ]
  },
  {
   "cell_type": "code",
   "execution_count": 1,
   "metadata": {},
   "outputs": [],
   "source": [
    "import pandas as pd\n",
    "import numpy as np\n",
    "from numpy import nan \n",
    "from numpy.linalg import norm\n"
   ]
  },
  {
   "cell_type": "code",
   "execution_count": 2,
   "metadata": {},
   "outputs": [],
   "source": [
    "def Convert(string):\n",
    "    li = list(string.split(\",\"))\n",
    "    return li\n",
    "Critiques=Convert('Lisa Rose,Gene Seymour,Michael Philips,Claudia Puig,Mick Lasalle,Jack Matthews,Toby,Anne')"
   ]
  },
  {
   "cell_type": "code",
   "execution_count": 3,
   "metadata": {},
   "outputs": [
    {
     "data": {
      "text/html": [
       "<div>\n",
       "<style scoped>\n",
       "    .dataframe tbody tr th:only-of-type {\n",
       "        vertical-align: middle;\n",
       "    }\n",
       "\n",
       "    .dataframe tbody tr th {\n",
       "        vertical-align: top;\n",
       "    }\n",
       "\n",
       "    .dataframe thead th {\n",
       "        text-align: right;\n",
       "    }\n",
       "</style>\n",
       "<table border=\"1\" class=\"dataframe\">\n",
       "  <thead>\n",
       "    <tr style=\"text-align: right;\">\n",
       "      <th></th>\n",
       "      <th>Lisa Rose</th>\n",
       "      <th>Gene Seymour</th>\n",
       "      <th>Michael Philips</th>\n",
       "      <th>Claudia Puig</th>\n",
       "      <th>Mick Lasalle</th>\n",
       "      <th>Jack Matthews</th>\n",
       "      <th>Toby</th>\n",
       "      <th>Anne</th>\n",
       "    </tr>\n",
       "  </thead>\n",
       "  <tbody>\n",
       "    <tr>\n",
       "      <th>Lady</th>\n",
       "      <td>2.5</td>\n",
       "      <td>3.0</td>\n",
       "      <td>2.5</td>\n",
       "      <td>NaN</td>\n",
       "      <td>3.0</td>\n",
       "      <td>3.0</td>\n",
       "      <td>NaN</td>\n",
       "      <td>1.5</td>\n",
       "    </tr>\n",
       "    <tr>\n",
       "      <th>Snakes</th>\n",
       "      <td>3.5</td>\n",
       "      <td>3.5</td>\n",
       "      <td>3.0</td>\n",
       "      <td>3.5</td>\n",
       "      <td>4.0</td>\n",
       "      <td>4.0</td>\n",
       "      <td>4.5</td>\n",
       "      <td>NaN</td>\n",
       "    </tr>\n",
       "    <tr>\n",
       "      <th>Luck</th>\n",
       "      <td>3.0</td>\n",
       "      <td>1.5</td>\n",
       "      <td>NaN</td>\n",
       "      <td>3.0</td>\n",
       "      <td>2.0</td>\n",
       "      <td>NaN</td>\n",
       "      <td>NaN</td>\n",
       "      <td>4.0</td>\n",
       "    </tr>\n",
       "    <tr>\n",
       "      <th>Superman</th>\n",
       "      <td>3.5</td>\n",
       "      <td>5.0</td>\n",
       "      <td>3.5</td>\n",
       "      <td>4.0</td>\n",
       "      <td>3.0</td>\n",
       "      <td>5.0</td>\n",
       "      <td>4.0</td>\n",
       "      <td>NaN</td>\n",
       "    </tr>\n",
       "    <tr>\n",
       "      <th>Dupree</th>\n",
       "      <td>2.5</td>\n",
       "      <td>3.5</td>\n",
       "      <td>NaN</td>\n",
       "      <td>2.5</td>\n",
       "      <td>2.0</td>\n",
       "      <td>3.5</td>\n",
       "      <td>1.0</td>\n",
       "      <td>2.0</td>\n",
       "    </tr>\n",
       "    <tr>\n",
       "      <th>Night</th>\n",
       "      <td>3.0</td>\n",
       "      <td>3.0</td>\n",
       "      <td>4.0</td>\n",
       "      <td>4.5</td>\n",
       "      <td>3.0</td>\n",
       "      <td>3.0</td>\n",
       "      <td>NaN</td>\n",
       "      <td>NaN</td>\n",
       "    </tr>\n",
       "  </tbody>\n",
       "</table>\n",
       "</div>"
      ],
      "text/plain": [
       "          Lisa Rose  Gene Seymour  Michael Philips  Claudia Puig  \\\n",
       "Lady            2.5           3.0              2.5           NaN   \n",
       "Snakes          3.5           3.5              3.0           3.5   \n",
       "Luck            3.0           1.5              NaN           3.0   \n",
       "Superman        3.5           5.0              3.5           4.0   \n",
       "Dupree          2.5           3.5              NaN           2.5   \n",
       "Night           3.0           3.0              4.0           4.5   \n",
       "\n",
       "          Mick Lasalle  Jack Matthews  Toby  Anne  \n",
       "Lady               3.0            3.0   NaN   1.5  \n",
       "Snakes             4.0            4.0   4.5   NaN  \n",
       "Luck               2.0            NaN   NaN   4.0  \n",
       "Superman           3.0            5.0   4.0   NaN  \n",
       "Dupree             2.0            3.5   1.0   2.0  \n",
       "Night              3.0            3.0   NaN   NaN  "
      ]
     },
     "execution_count": 3,
     "metadata": {},
     "output_type": "execute_result"
    }
   ],
   "source": [
    "data = {\n",
    "    'Lady':[2.5,3,2.5,nan,3,3,nan,1.5],\n",
    "    'Snakes':[3.5,3.5,3,3.5,4,4,4.5,nan],\n",
    "    'Luck':[3,1.5,nan,3,2,nan,nan,4],\n",
    "    'Superman':[3.5,5,3.5,4,3,5,4,nan],\n",
    "    'Dupree':[2.5,3.5,nan,2.5,2.0,3.5,1,2],\n",
    "    'Night':[3,3,4,4.5,3,3,nan,nan]\n",
    "    }\n",
    "critiques = pd.DataFrame(data,index=Critiques).T\n",
    "critiques"
   ]
  },
  {
   "cell_type": "markdown",
   "metadata": {},
   "source": [
    "# Question 2\n",
    "(a) To compute a simple similarity score, we use the Manhattan distance or an Euclidean distance."
   ]
  },
  {
   "cell_type": "code",
   "execution_count": 4,
   "metadata": {},
   "outputs": [
    {
     "data": {
      "text/plain": [
       "2.3979157616563596"
      ]
     },
     "execution_count": 4,
     "metadata": {},
     "output_type": "execute_result"
    }
   ],
   "source": [
    "def sim_distanceManhattan(person1,person2):\n",
    "    sum=0\n",
    "    for val1, val2 in zip(person1,person2):\n",
    "        if np.isnan(val1) or np.isnan(val2):\n",
    "            pass\n",
    "        else:\n",
    "            sum=sum+np.abs(val1-val2)\n",
    "    return sum\n",
    "\n",
    "def sim_distanceEuclidienne(person1,person2):\n",
    "    sum=0\n",
    "    for val1, val2 in zip(person1,person2):\n",
    "        if np.isnan(val1) or np.isnan(val2):\n",
    "            pass\n",
    "        else:\n",
    "            sum=sum+np.abs(val1-val2)*np.abs(val1-val2)\n",
    "    return np.sqrt(sum)\n",
    "sim_distanceEuclidienne(critiques['Lisa Rose'],critiques['Gene Seymour'])"
   ]
  },
  {
   "cell_type": "markdown",
   "metadata": {},
   "source": [
    "(b) Anne could just look at the person who has tastes most similar to her and look for a movie he likes that Anne has not seen yet. For each distance above, build the function recommendNearestNeighbor(nouveauCritique, Critiques) returning a list of movies to re- commend to the user nouveauCritique, based on the tastes of the critic who is close (similar) to him."
   ]
  },
  {
   "cell_type": "code",
   "execution_count": 5,
   "metadata": {},
   "outputs": [],
   "source": [
    "# #fill the null values via mean of that movie\n",
    "# #otherwise we can not compute the distance of two persons directly\n",
    "# for idx in critiques.index:\n",
    "#     critiques.loc[idx]=critiques.loc[idx].fillna(critiques.loc[idx].mean())\n",
    "# critiques"
   ]
  },
  {
   "cell_type": "code",
   "execution_count": 6,
   "metadata": {},
   "outputs": [
    {
     "name": "stdout",
     "output_type": "stream",
     "text": [
      "Toby's neighbors' distances are: \n",
      "\n"
     ]
    },
    {
     "data": {
      "text/plain": [
       "[(1.0, 'Anne'),\n",
       " (2.0, 'Michael Philips'),\n",
       " (2.5, 'Claudia Puig'),\n",
       " (2.5, 'Mick Lasalle'),\n",
       " (3.0, 'Lisa Rose'),\n",
       " (4.0, 'Jack Matthews'),\n",
       " (4.5, 'Gene Seymour')]"
      ]
     },
     "execution_count": 6,
     "metadata": {},
     "output_type": "execute_result"
    }
   ],
   "source": [
    "def computeNearestNeighbor(nouveauCritique, Critiques):\n",
    "    distances=[]\n",
    "    for critique in Critiques:\n",
    "        if critique!=nouveauCritique:\n",
    "            distance=sim_distanceManhattan(critiques[critique],critiques[nouveauCritique])\n",
    "            distances.append((distance,critique))\n",
    "    distances.sort()\n",
    "    print(\"{}'s neighbors' distances are: \\n\".format(nouveauCritique))\n",
    "    return distances\n",
    "computeNearestNeighbor('Toby',Critiques)"
   ]
  },
  {
   "cell_type": "code",
   "execution_count": 7,
   "metadata": {},
   "outputs": [
    {
     "name": "stdout",
     "output_type": "stream",
     "text": [
      "Toby's neighbors' distances are: \n",
      "\n",
      "Toby's nearest neighbor is Anne, thus we recommend the movies: \n"
     ]
    },
    {
     "data": {
      "text/plain": [
       "[('Lady', 1.5), ('Luck', 4.0)]"
      ]
     },
     "execution_count": 7,
     "metadata": {},
     "output_type": "execute_result"
    }
   ],
   "source": [
    "movies=(critiques.index)\n",
    "def recommendNearestNeighbor(nouveauCritique, Critiques):\n",
    "    recommendMovies=[]\n",
    "    NearestNeighbor= computeNearestNeighbor(nouveauCritique,Critiques)[0][1]\n",
    "    print(\"{}'s nearest neighbor is {}, thus we recommend the movies: \".format(nouveauCritique,NearestNeighbor))\n",
    "    for i in range(0,len(critiques[nouveauCritique])):\n",
    "        if np.isnan(critiques[nouveauCritique][i]) and not np.isnan(critiques[NearestNeighbor][i]):\n",
    "            recommendMovies.append((movies[i],critiques[NearestNeighbor][i]))\n",
    "    return recommendMovies\n",
    "recommendNearestNeighbor('Toby',Critiques)"
   ]
  },
  {
   "cell_type": "markdown",
   "metadata": {},
   "source": [
    "(c) To solve the previous limitations, you need to score the items by producing a weighted score (global score) that ranks the critics. The procedure which determine the recommendations to suggest to Anne is describe in two steps below. For a given movie a, let us denote by C(a) the list of all the critics which gave a rating to a, and x(a) the rating given to a by the critic x."
   ]
  },
  {
   "cell_type": "markdown",
   "metadata": {},
   "source": [
    "(c)i"
   ]
  },
  {
   "cell_type": "code",
   "execution_count": 10,
   "metadata": {},
   "outputs": [],
   "source": [
    "def anneRecommendationPool(distanceFunction=\"Manhattan\"):\n",
    "    dict={}\n",
    "    for i in range(0,len(critiques['Anne'])):\n",
    "        if np.isnan(critiques['Anne'][i]):\n",
    "            critics=[]\n",
    "            total=0\n",
    "            sa=0\n",
    "            for j in range(0,len(critiques.iloc[i,:])):\n",
    "                if not np.isnan(critiques.iloc[i,j]):\n",
    "                    critics.append(critiques.columns[j])\n",
    "                    if distanceFunction==\"Manhattan\":\n",
    "                        total=total+critiques.iloc[i,j]/(1+sim_distanceManhattan(critiques['Anne'],critiques.iloc[:,j]))\n",
    "                        sa=sa+1/(1+sim_distanceManhattan(critiques['Anne'],critiques.iloc[:,j]))\n",
    "                    else: \n",
    "                        if distanceFunction==\"Euclidienne\":\n",
    "                            total=total+critiques.iloc[i,j]/(1+sim_distanceEuclidienne(critiques['Anne'],critiques.iloc[:,j]))\n",
    "                            sa=sa+1/(1+sim_distanceEuclidienne(critiques['Anne'],critiques.iloc[:,j]))\n",
    "                        else:\n",
    "                            return print(\"please type in a valid distance function\")\n",
    "            dict[critiques.index[i]]=[[\"C(a)\",critics],[\"total(a)\",total],[\"s(a)\",sa],[\"s'(a)\",total/sa]] \n",
    "    return dict\n",
    "anneRecommendationPool(distanceFunction=\"Euclidienne\")"
   ]
  },
  {
   "cell_type": "code",
   "execution_count": 14,
   "metadata": {},
   "outputs": [
    {
     "name": "stdout",
     "output_type": "stream",
     "text": [
      "last value :  3.5462185630243064\n"
     ]
    }
   ],
   "source": [
    "a.get(list(a.keys())[-1])[-1][-1]print(\"last value : \", )"
   ]
  },
  {
   "cell_type": "markdown",
   "metadata": {},
   "source": [
    "(c)ii-i"
   ]
  },
  {
   "cell_type": "code",
   "execution_count": 16,
   "metadata": {},
   "outputs": [
    {
     "data": {
      "text/plain": [
       "{'Snakes': 3.7039297694065687,\n",
       " 'Superman': 3.933028718913866,\n",
       " 'Night': 3.5462185630243064}"
      ]
     },
     "execution_count": 16,
     "metadata": {},
     "output_type": "execute_result"
    }
   ],
   "source": [
    "def Bestrecommend(distanceFunction):\n",
    "    rec_dict=anneRecommendationPool(distanceFunction=distanceFunction)\n",
    "    rec_dict_sort={}\n",
    "    for i in range(0,len(list(rec_dict.keys()))):\n",
    "        rec_dict_sort[list(rec_dict.keys())[i]]=rec_dict.get(list(rec_dict.keys())[i])[-1][-1]\n",
    "    return（min(rec_dict_sort, key=rec_dict_sort.get)）\n",
    "\n",
    "Bestrecommend(distanceFunction=\"Euclidienne\")"
   ]
  },
  {
   "cell_type": "code",
   "execution_count": 9,
   "metadata": {},
   "outputs": [
    {
     "ename": "SyntaxError",
     "evalue": "invalid syntax (856134727.py, line 5)",
     "output_type": "error",
     "traceback": [
      "\u001b[0;36m  File \u001b[0;32m\"/var/folders/ht/qs2q48y15pzcv0_pdtw7p5yr0000gn/T/ipykernel_51719/856134727.py\"\u001b[0;36m, line \u001b[0;32m5\u001b[0m\n\u001b[0;31m    ...     print(item)\u001b[0m\n\u001b[0m            ^\u001b[0m\n\u001b[0;31mSyntaxError\u001b[0m\u001b[0;31m:\u001b[0m invalid syntax\n"
     ]
    }
   ],
   "source": [
    "def Bestrecommend(distanceFunction=\"Manhattan\"):\n",
    "    dict=anneRecommendationPool(distanceFunction)\n",
    "    for key, value in dict.items():\n",
    "        print(value)\n",
    "...     print(item)\n",
    "    print(dict.values())\n",
    "Bestrecommend(distanceFunction=\"Manhattan\")"
   ]
  },
  {
   "cell_type": "code",
   "execution_count": null,
   "metadata": {},
   "outputs": [
    {
     "name": "stdout",
     "output_type": "stream",
     "text": [
      "[0, 0]\n",
      "0.0\n",
      "[0, 1]\n",
      "2.3979157616563596\n",
      "[0, 2]\n",
      "1.118033988749895\n",
      "[0, 3]\n",
      "1.5811388300841898\n",
      "[0, 4]\n",
      "1.4142135623730951\n",
      "[0, 5]\n",
      "1.9364916731037085\n",
      "[0, 6]\n",
      "1.8708286933869707\n",
      "[0, 7]\n",
      "1.5\n",
      "[1, 0]\n",
      "2.3979157616563596\n",
      "[1, 1]\n",
      "0.0\n",
      "[1, 2]\n",
      "1.9364916731037085\n",
      "[1, 3]\n",
      "2.5495097567963922\n",
      "[1, 4]\n",
      "2.598076211353316\n",
      "[1, 5]\n",
      "0.5\n",
      "[1, 6]\n",
      "2.8722813232690143\n",
      "[1, 7]\n",
      "3.278719262151\n",
      "[2, 0]\n",
      "1.118033988749895\n",
      "[2, 1]\n",
      "1.9364916731037085\n",
      "[2, 2]\n",
      "0.0\n",
      "[2, 3]\n",
      "0.8660254037844386\n",
      "[2, 4]\n",
      "1.5811388300841898\n",
      "[2, 5]\n",
      "2.1213203435596424\n",
      "[2, 6]\n",
      "1.5811388300841898\n",
      "[2, 7]\n",
      "1.0\n",
      "[3, 0]\n",
      "1.5811388300841898\n",
      "[3, 1]\n",
      "2.5495097567963922\n",
      "[3, 2]\n",
      "0.8660254037844386\n",
      "[3, 3]\n",
      "0.0\n",
      "[3, 4]\n",
      "2.179449471770337\n",
      "[3, 5]\n",
      "2.1213203435596424\n",
      "[3, 6]\n",
      "1.8027756377319946\n",
      "[3, 7]\n",
      "1.118033988749895\n",
      "[4, 0]\n",
      "1.4142135623730951\n",
      "[4, 1]\n",
      "2.598076211353316\n",
      "[4, 2]\n",
      "1.5811388300841898\n",
      "[4, 3]\n",
      "2.179449471770337\n",
      "[4, 4]\n",
      "0.0\n",
      "[4, 5]\n",
      "2.5\n",
      "[4, 6]\n",
      "1.5\n",
      "[4, 7]\n",
      "2.5\n",
      "[5, 0]\n",
      "1.9364916731037085\n",
      "[5, 1]\n",
      "0.5\n",
      "[5, 2]\n",
      "2.1213203435596424\n",
      "[5, 3]\n",
      "2.1213203435596424\n",
      "[5, 4]\n",
      "2.5\n",
      "[5, 5]\n",
      "0.0\n",
      "[5, 6]\n",
      "2.7386127875258306\n",
      "[5, 7]\n",
      "2.1213203435596424\n",
      "[6, 0]\n",
      "1.8708286933869707\n",
      "[6, 1]\n",
      "2.8722813232690143\n",
      "[6, 2]\n",
      "1.5811388300841898\n",
      "[6, 3]\n",
      "1.8027756377319946\n",
      "[6, 4]\n",
      "1.5\n",
      "[6, 5]\n",
      "2.7386127875258306\n",
      "[6, 6]\n",
      "0.0\n",
      "[6, 7]\n",
      "1.0\n",
      "[7, 0]\n",
      "1.5\n",
      "[7, 1]\n",
      "3.278719262151\n",
      "[7, 2]\n",
      "1.0\n",
      "[7, 3]\n",
      "1.118033988749895\n",
      "[7, 4]\n",
      "2.5\n",
      "[7, 5]\n",
      "2.1213203435596424\n",
      "[7, 6]\n",
      "1.0\n",
      "[7, 7]\n",
      "0.0\n"
     ]
    }
   ],
   "source": [
    "for i in range(0,len(critiques.iloc[1,:])):\n",
    "    for j in range(0,len(critiques.iloc[1,:])):\n",
    "        print([i,j])\n",
    "        print(sim_distanceEuclidienne(critiques.iloc[:,i],critiques.iloc[:,j]))"
   ]
  },
  {
   "cell_type": "code",
   "execution_count": null,
   "metadata": {},
   "outputs": [],
   "source": [
    "(c)ii"
   ]
  },
  {
   "cell_type": "code",
   "execution_count": null,
   "metadata": {},
   "outputs": [],
   "source": [
    "critiques.columns"
   ]
  }
 ],
 "metadata": {
  "kernelspec": {
   "display_name": "Python 3.8.0b2 64-bit",
   "language": "python",
   "name": "python3"
  },
  "language_info": {
   "codemirror_mode": {
    "name": "ipython",
    "version": 3
   },
   "file_extension": ".py",
   "mimetype": "text/x-python",
   "name": "python",
   "nbconvert_exporter": "python",
   "pygments_lexer": "ipython3",
   "version": "3.8.0b2"
  },
  "orig_nbformat": 4,
  "vscode": {
   "interpreter": {
    "hash": "aee8b7b246df8f9039afb4144a1f6fd8d2ca17a180786b69acc140d282b71a49"
   }
  }
 },
 "nbformat": 4,
 "nbformat_minor": 2
}
