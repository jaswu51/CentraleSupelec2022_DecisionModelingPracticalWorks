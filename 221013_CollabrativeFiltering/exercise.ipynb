{
 "cells": [
  {
   "cell_type": "markdown",
   "metadata": {},
   "source": [
    "# Question 1\n",
    "I will built a dataframe to present the data"
   ]
  },
  {
   "cell_type": "code",
   "execution_count": 861,
   "metadata": {},
   "outputs": [],
   "source": [
    "import pandas as pd\n",
    "import numpy as np\n",
    "from numpy import nan \n",
    "from numpy import dot\n",
    "from numpy.linalg import norm\n",
    "import math\n",
    "import random"
   ]
  },
  {
   "cell_type": "code",
   "execution_count": 862,
   "metadata": {},
   "outputs": [],
   "source": [
    "def Convert(string):\n",
    "    li = list(string.split(\",\"))\n",
    "    return li\n",
    "Critiques=Convert('Lisa Rose,Gene Seymour,Michael Philips,Claudia Puig,Mick Lasalle,Jack Matthews,Toby,Anne')"
   ]
  },
  {
   "cell_type": "code",
   "execution_count": 863,
   "metadata": {},
   "outputs": [
    {
     "data": {
      "text/html": [
       "<div>\n",
       "<style scoped>\n",
       "    .dataframe tbody tr th:only-of-type {\n",
       "        vertical-align: middle;\n",
       "    }\n",
       "\n",
       "    .dataframe tbody tr th {\n",
       "        vertical-align: top;\n",
       "    }\n",
       "\n",
       "    .dataframe thead th {\n",
       "        text-align: right;\n",
       "    }\n",
       "</style>\n",
       "<table border=\"1\" class=\"dataframe\">\n",
       "  <thead>\n",
       "    <tr style=\"text-align: right;\">\n",
       "      <th></th>\n",
       "      <th>Lisa Rose</th>\n",
       "      <th>Gene Seymour</th>\n",
       "      <th>Michael Philips</th>\n",
       "      <th>Claudia Puig</th>\n",
       "      <th>Mick Lasalle</th>\n",
       "      <th>Jack Matthews</th>\n",
       "      <th>Toby</th>\n",
       "      <th>Anne</th>\n",
       "    </tr>\n",
       "  </thead>\n",
       "  <tbody>\n",
       "    <tr>\n",
       "      <th>Lady</th>\n",
       "      <td>2.5</td>\n",
       "      <td>3.0</td>\n",
       "      <td>2.5</td>\n",
       "      <td>NaN</td>\n",
       "      <td>3.0</td>\n",
       "      <td>3.0</td>\n",
       "      <td>NaN</td>\n",
       "      <td>1.5</td>\n",
       "    </tr>\n",
       "    <tr>\n",
       "      <th>Snakes</th>\n",
       "      <td>3.5</td>\n",
       "      <td>3.5</td>\n",
       "      <td>3.0</td>\n",
       "      <td>3.5</td>\n",
       "      <td>4.0</td>\n",
       "      <td>4.0</td>\n",
       "      <td>4.5</td>\n",
       "      <td>NaN</td>\n",
       "    </tr>\n",
       "    <tr>\n",
       "      <th>Luck</th>\n",
       "      <td>3.0</td>\n",
       "      <td>1.5</td>\n",
       "      <td>NaN</td>\n",
       "      <td>3.0</td>\n",
       "      <td>2.0</td>\n",
       "      <td>NaN</td>\n",
       "      <td>NaN</td>\n",
       "      <td>4.0</td>\n",
       "    </tr>\n",
       "    <tr>\n",
       "      <th>Superman</th>\n",
       "      <td>3.5</td>\n",
       "      <td>5.0</td>\n",
       "      <td>3.5</td>\n",
       "      <td>4.0</td>\n",
       "      <td>3.0</td>\n",
       "      <td>5.0</td>\n",
       "      <td>4.0</td>\n",
       "      <td>NaN</td>\n",
       "    </tr>\n",
       "    <tr>\n",
       "      <th>Dupree</th>\n",
       "      <td>2.5</td>\n",
       "      <td>3.5</td>\n",
       "      <td>NaN</td>\n",
       "      <td>2.5</td>\n",
       "      <td>2.0</td>\n",
       "      <td>3.5</td>\n",
       "      <td>1.0</td>\n",
       "      <td>2.0</td>\n",
       "    </tr>\n",
       "    <tr>\n",
       "      <th>Night</th>\n",
       "      <td>3.0</td>\n",
       "      <td>3.0</td>\n",
       "      <td>4.0</td>\n",
       "      <td>4.5</td>\n",
       "      <td>3.0</td>\n",
       "      <td>3.0</td>\n",
       "      <td>NaN</td>\n",
       "      <td>NaN</td>\n",
       "    </tr>\n",
       "  </tbody>\n",
       "</table>\n",
       "</div>"
      ],
      "text/plain": [
       "          Lisa Rose  Gene Seymour  Michael Philips  Claudia Puig  \\\n",
       "Lady            2.5           3.0              2.5           NaN   \n",
       "Snakes          3.5           3.5              3.0           3.5   \n",
       "Luck            3.0           1.5              NaN           3.0   \n",
       "Superman        3.5           5.0              3.5           4.0   \n",
       "Dupree          2.5           3.5              NaN           2.5   \n",
       "Night           3.0           3.0              4.0           4.5   \n",
       "\n",
       "          Mick Lasalle  Jack Matthews  Toby  Anne  \n",
       "Lady               3.0            3.0   NaN   1.5  \n",
       "Snakes             4.0            4.0   4.5   NaN  \n",
       "Luck               2.0            NaN   NaN   4.0  \n",
       "Superman           3.0            5.0   4.0   NaN  \n",
       "Dupree             2.0            3.5   1.0   2.0  \n",
       "Night              3.0            3.0   NaN   NaN  "
      ]
     },
     "execution_count": 863,
     "metadata": {},
     "output_type": "execute_result"
    }
   ],
   "source": [
    "data = {\n",
    "    'Lady':[2.5,3,2.5,nan,3,3,nan,1.5],\n",
    "    'Snakes':[3.5,3.5,3,3.5,4,4,4.5,nan],\n",
    "    'Luck':[3,1.5,nan,3,2,nan,nan,4],\n",
    "    'Superman':[3.5,5,3.5,4,3,5,4,nan],\n",
    "    'Dupree':[2.5,3.5,nan,2.5,2.0,3.5,1,2],\n",
    "    'Night':[3,3,4,4.5,3,3,nan,nan]\n",
    "    }\n",
    "critiques = pd.DataFrame(data,index=Critiques).T\n",
    "critiques"
   ]
  },
  {
   "cell_type": "markdown",
   "metadata": {},
   "source": [
    "# Question 2\n",
    "(a) To compute a simple similarity score, we use the Manhattan distance or an Euclidean distance."
   ]
  },
  {
   "cell_type": "code",
   "execution_count": 864,
   "metadata": {},
   "outputs": [
    {
     "data": {
      "text/plain": [
       "2.3979157616563596"
      ]
     },
     "execution_count": 864,
     "metadata": {},
     "output_type": "execute_result"
    }
   ],
   "source": [
    "def sim_distanceManhattan(person1,person2):\n",
    "    sum=0\n",
    "    for val1, val2 in zip(person1,person2):\n",
    "        if np.isnan(val1) or np.isnan(val2):\n",
    "            pass\n",
    "        else:\n",
    "            sum=sum+np.abs(val1-val2)\n",
    "    return sum\n",
    "\n",
    "def sim_distanceEuclidienne(person1,person2):\n",
    "    sum=0\n",
    "    for val1, val2 in zip(person1,person2):\n",
    "        if np.isnan(val1) or np.isnan(val2):\n",
    "            pass\n",
    "        else:\n",
    "            sum=sum+np.abs(val1-val2)*np.abs(val1-val2)\n",
    "    return np.sqrt(sum)\n",
    "sim_distanceEuclidienne(critiques['Lisa Rose'],critiques['Gene Seymour'])"
   ]
  },
  {
   "cell_type": "markdown",
   "metadata": {},
   "source": [
    "(b) Anne could just look at the person who has tastes most similar to her and look for a movie he likes that Anne has not seen yet. For each distance above, build the function recommendNearestNeighbor(nouveauCritique, Critiques) returning a list of movies to re- commend to the user nouveauCritique, based on the tastes of the critic who is close (similar) to him."
   ]
  },
  {
   "cell_type": "code",
   "execution_count": 865,
   "metadata": {},
   "outputs": [],
   "source": [
    "# #fill the null values via mean of that movie\n",
    "# #otherwise we can not compute the distance of two persons directly\n",
    "# for idx in critiques.index:\n",
    "#     critiques.loc[idx]=critiques.loc[idx].fillna(critiques.loc[idx].mean())\n",
    "# critiques"
   ]
  },
  {
   "cell_type": "code",
   "execution_count": 866,
   "metadata": {},
   "outputs": [
    {
     "data": {
      "text/plain": [
       "[(1.0, 'Anne'),\n",
       " (2.0, 'Michael Philips'),\n",
       " (2.5, 'Claudia Puig'),\n",
       " (2.5, 'Mick Lasalle'),\n",
       " (3.0, 'Lisa Rose'),\n",
       " (4.0, 'Jack Matthews'),\n",
       " (4.5, 'Gene Seymour')]"
      ]
     },
     "execution_count": 866,
     "metadata": {},
     "output_type": "execute_result"
    }
   ],
   "source": [
    "def computeNearestNeighbor(nouveauCritique, critiques):\n",
    "    distances=[]\n",
    "    for critique in list(critiques.columns):\n",
    "        if critique!=nouveauCritique:\n",
    "            distance=sim_distanceManhattan(critiques[critique],critiques[nouveauCritique])\n",
    "            distances.append((distance,critique))\n",
    "    distances.sort()\n",
    "    return distances\n",
    "computeNearestNeighbor('Toby',critiques)"
   ]
  },
  {
   "cell_type": "code",
   "execution_count": 867,
   "metadata": {},
   "outputs": [
    {
     "name": "stdout",
     "output_type": "stream",
     "text": [
      "Toby's nearest neighbor is Anne, thus we recommend the movies: \n"
     ]
    },
    {
     "data": {
      "text/plain": [
       "[('Lady', 1.5), ('Luck', 4.0)]"
      ]
     },
     "execution_count": 867,
     "metadata": {},
     "output_type": "execute_result"
    }
   ],
   "source": [
    "def recommendNearestNeighbor(nouveauCritique, critiques):\n",
    "    recommendMovies=[]\n",
    "    NearestNeighbor= computeNearestNeighbor(nouveauCritique,critiques)[0][1]\n",
    "    print(\"{}'s nearest neighbor is {}, thus we recommend the movies: \".format(nouveauCritique,NearestNeighbor))\n",
    "    for i in range(0,len(critiques[nouveauCritique])):\n",
    "        if np.isnan(critiques[nouveauCritique][i]) and not np.isnan(critiques[NearestNeighbor][i]):\n",
    "            recommendMovies.append((critiques.index[i],critiques[NearestNeighbor][i]))\n",
    "    return recommendMovies\n",
    "recommendNearestNeighbor('Toby',critiques)"
   ]
  },
  {
   "cell_type": "markdown",
   "metadata": {},
   "source": [
    "(c) To solve the previous limitations, you need to score the items by producing a weighted score (global score) that ranks the critics. The procedure which determine the recommendations to suggest to Anne is describe in two steps below. For a given movie a, let us denote by C(a) the list of all the critics which gave a rating to a, and x(a) the rating given to a by the critic x."
   ]
  },
  {
   "cell_type": "markdown",
   "metadata": {},
   "source": [
    "(c)i"
   ]
  },
  {
   "cell_type": "code",
   "execution_count": 868,
   "metadata": {},
   "outputs": [],
   "source": [
    "def recommendationPool(targetPerson,distanceFunction,critiques):\n",
    "    dict={}\n",
    "    for i in range(0,len(targetPerson)):\n",
    "        if np.isnan(targetPerson[i]):\n",
    "            critics=[]\n",
    "            total=0\n",
    "            sa=0\n",
    "            for j in range(0,len(critiques.iloc[i,:])):\n",
    "                if not np.isnan(critiques.iloc[i,j]):\n",
    "                    critics.append(critiques.columns[j])\n",
    "                    if distanceFunction==\"Manhattan\":\n",
    "                        total=total+critiques.iloc[i,j]/(1+sim_distanceManhattan(targetPerson,critiques.iloc[:,j]))\n",
    "                        sa=sa+1/(1+sim_distanceManhattan(targetPerson,critiques.iloc[:,j]))\n",
    "                    else: \n",
    "                        if distanceFunction==\"Euclidienne\":\n",
    "                            total=total+critiques.iloc[i,j]/(1+sim_distanceEuclidienne(targetPerson,critiques.iloc[:,j]))\n",
    "                            sa=sa+1/(1+sim_distanceEuclidienne(targetPerson,critiques.iloc[:,j]))\n",
    "                        else:\n",
    "                            return print(\"please type in a valid distance function\")\n",
    "            dict[critiques.index[i]]=[[\"C(a)\",critics],[\"total(a)\",total],[\"s(a)\",sa],[\"s'(a)\",total/sa]] \n",
    "    return dict"
   ]
  },
  {
   "cell_type": "markdown",
   "metadata": {},
   "source": [
    "(c)ii-i"
   ]
  },
  {
   "cell_type": "code",
   "execution_count": 869,
   "metadata": {},
   "outputs": [],
   "source": [
    "def Bestrecommend(targetPerson,distanceFunction,data):\n",
    "    rec_dict=recommendationPool(targetPerson,distanceFunction,data)\n",
    "    rec_dict_sort={}\n",
    "    for i in range(0,len(list(rec_dict.keys()))):\n",
    "        rec_dict_sort[list(rec_dict.keys())[i]]=rec_dict.get(list(rec_dict.keys())[i])[-1][-1]\n",
    "    return min(rec_dict_sort, key=rec_dict_sort.get)"
   ]
  },
  {
   "cell_type": "code",
   "execution_count": 870,
   "metadata": {},
   "outputs": [
    {
     "data": {
      "text/plain": [
       "'Night'"
      ]
     },
     "execution_count": 870,
     "metadata": {},
     "output_type": "execute_result"
    }
   ],
   "source": [
    "Bestrecommend(targetPerson=critiques['Anne'],distanceFunction=\"Euclidienne\",data=critiques)"
   ]
  },
  {
   "cell_type": "code",
   "execution_count": 871,
   "metadata": {},
   "outputs": [
    {
     "data": {
      "text/plain": [
       "'Night'"
      ]
     },
     "execution_count": 871,
     "metadata": {},
     "output_type": "execute_result"
    }
   ],
   "source": [
    "Bestrecommend(targetPerson=critiques['Anne'],distanceFunction=\"Manhattan\",data=critiques)"
   ]
  },
  {
   "cell_type": "markdown",
   "metadata": {},
   "source": [
    "(c)ii-ii"
   ]
  },
  {
   "cell_type": "code",
   "execution_count": 872,
   "metadata": {},
   "outputs": [],
   "source": [
    "def recommendationPoolExp(targetPerson,distanceFunction,critiques):\n",
    "    dict={}\n",
    "    for i in range(0,len(targetPerson)):\n",
    "        if np.isnan(targetPerson[i]):\n",
    "            critics=[]\n",
    "            total=0\n",
    "            sa=0\n",
    "            for j in range(0,len(critiques.iloc[i,:])):\n",
    "                if not np.isnan(critiques.iloc[i,j]):\n",
    "                    critics.append(critiques.columns[j])\n",
    "                    if distanceFunction==\"Manhattan\":\n",
    "                        total=total+critiques.iloc[i,j]*math.exp(-sim_distanceManhattan(targetPerson,critiques.iloc[:,j]))\n",
    "                        sa=sa+math.exp(-sim_distanceManhattan(targetPerson,critiques.iloc[:,j]))\n",
    "                    else: \n",
    "                        if distanceFunction==\"Euclidienne\":\n",
    "                            total=total+critiques.iloc[i,j]*math.exp(-sim_distanceEuclidienne(targetPerson,critiques.iloc[:,j]))\n",
    "                            sa=sa+math.exp(-sim_distanceEuclidienne(targetPerson,critiques.iloc[:,j]))\n",
    "                        else:\n",
    "                            return print(\"please type in a valid distance function\")\n",
    "            dict[critiques.index[i]]=[[\"C(a)\",critics],[\"total(a)\",total],[\"s(a)\",sa],[\"s'(a)\",total/sa]] \n",
    "    return dict\n",
    "def BestrecommendwithExp(targetPerson=critiques['Anne'],distanceFunction=\"Manhattan\",data=critiques):\n",
    "    rec_dict=recommendationPoolExp(targetPerson,distanceFunction,data)\n",
    "    rec_dict_sort={}\n",
    "    for i in range(0,len(list(rec_dict.keys()))):\n",
    "        rec_dict_sort[list(rec_dict.keys())[i]]=rec_dict.get(list(rec_dict.keys())[i])[-1][-1]\n",
    "    return min(rec_dict_sort, key=rec_dict_sort.get)"
   ]
  },
  {
   "cell_type": "code",
   "execution_count": 873,
   "metadata": {},
   "outputs": [
    {
     "data": {
      "text/plain": [
       "'Snakes'"
      ]
     },
     "execution_count": 873,
     "metadata": {},
     "output_type": "execute_result"
    }
   ],
   "source": [
    "BestrecommendwithExp(targetPerson=critiques['Anne'],distanceFunction=\"Euclidienne\",data=critiques)"
   ]
  },
  {
   "cell_type": "code",
   "execution_count": 874,
   "metadata": {},
   "outputs": [
    {
     "data": {
      "text/plain": [
       "'Snakes'"
      ]
     },
     "execution_count": 874,
     "metadata": {},
     "output_type": "execute_result"
    }
   ],
   "source": [
    "BestrecommendwithExp(targetPerson=critiques['Anne'],distanceFunction=\"Manhattan\",data=critiques)"
   ]
  },
  {
   "cell_type": "markdown",
   "metadata": {},
   "source": [
    "(d)PearsonRecommend()"
   ]
  },
  {
   "cell_type": "code",
   "execution_count": 875,
   "metadata": {},
   "outputs": [],
   "source": [
    "def pearson(person1, person2):\n",
    "    if len(person1)==len(person2):\n",
    "        key1_list=[]\n",
    "        key2_list=[]\n",
    "        for i in range(0,len(person1)):\n",
    "            if not np.isnan(person1[i]) and not np.isnan(person2[i]):\n",
    "                key1_list.append(person1[i])\n",
    "                key2_list.append(person2[i])\n",
    "        return np.corrcoef(key1_list,key2_list)[0][1]\n",
    "    else:\n",
    "        return(\"error\")"
   ]
  },
  {
   "cell_type": "code",
   "execution_count": 876,
   "metadata": {},
   "outputs": [],
   "source": [
    "def recommendationPoolPearson(targetPerson,critiques):\n",
    "    dict={}\n",
    "    for i in range(0,len(targetPerson)):\n",
    "        if np.isnan(targetPerson[i]):\n",
    "            critics=[]\n",
    "            total=0\n",
    "            sa=0\n",
    "            for j in range(0,len(critiques.iloc[i,:])):\n",
    "                if not np.isnan(critiques.iloc[i,j]):\n",
    "                    critics.append(critiques.columns[j])\n",
    "                    total=total+critiques.iloc[i,j]*pearson(targetPerson,critiques.iloc[:,j])\n",
    "            dict[critiques.index[i]]=[[\"C(a)\",critics],[\"total(a)\",total]] \n",
    "    return dict\n",
    "def PearsonRecommend(targetPerson=critiques['Anne'],data=critiques):\n",
    "    rec_dict=recommendationPoolPearson(targetPerson,data)\n",
    "    rec_dict_sort={}\n",
    "    for i in range(0,len(list(rec_dict.keys()))):\n",
    "        rec_dict_sort[list(rec_dict.keys())[i]]=rec_dict.get(list(rec_dict.keys())[i])[-1][-1]\n",
    "    return min(rec_dict_sort, key=rec_dict_sort.get)"
   ]
  },
  {
   "cell_type": "code",
   "execution_count": 877,
   "metadata": {},
   "outputs": [
    {
     "name": "stderr",
     "output_type": "stream",
     "text": [
      "/Library/Frameworks/Python.framework/Versions/3.8/lib/python3.8/site-packages/numpy/lib/function_base.py:2845: RuntimeWarning: Degrees of freedom <= 0 for slice\n",
      "  c = cov(x, y, rowvar, dtype=dtype)\n",
      "/Library/Frameworks/Python.framework/Versions/3.8/lib/python3.8/site-packages/numpy/lib/function_base.py:2704: RuntimeWarning: divide by zero encountered in divide\n",
      "  c *= np.true_divide(1, fact)\n",
      "/Library/Frameworks/Python.framework/Versions/3.8/lib/python3.8/site-packages/numpy/lib/function_base.py:2704: RuntimeWarning: invalid value encountered in multiply\n",
      "  c *= np.true_divide(1, fact)\n"
     ]
    },
    {
     "data": {
      "text/plain": [
       "'Snakes'"
      ]
     },
     "execution_count": 877,
     "metadata": {},
     "output_type": "execute_result"
    }
   ],
   "source": [
    "PearsonRecommend(targetPerson=critiques['Anne'],data=critiques)"
   ]
  },
  {
   "cell_type": "markdown",
   "metadata": {},
   "source": [
    "(e)CosineRecommend"
   ]
  },
  {
   "cell_type": "code",
   "execution_count": 878,
   "metadata": {},
   "outputs": [],
   "source": [
    "def recommendationPoolCosine(targetPerson,critiques):\n",
    "    dict={}\n",
    "    for i in range(0,len(targetPerson)):\n",
    "        if np.isnan(targetPerson[i]):\n",
    "            critics=[]\n",
    "            total=0\n",
    "            sa=0\n",
    "            for j in range(0,len(critiques.iloc[i,:])):\n",
    "                if not np.isnan(critiques.iloc[i,j]):\n",
    "                    critics.append(critiques.columns[j])\n",
    "                    total=total+critiques.iloc[i,j]*(dot(targetPerson,critiques.iloc[:,j])/(norm(targetPerson)*norm(critiques.iloc[:,j])))\n",
    "            dict[critiques.index[i]]=[[\"C(a)\",critics],[\"total(a)\",total]] \n",
    "    return dict\n",
    "def CosineRecommend(targetPerson=critiques['Anne'],data=critiques):\n",
    "    rec_dict=recommendationPoolCosine(targetPerson,data)\n",
    "    rec_dict_sort={}\n",
    "    for i in range(0,len(list(rec_dict.keys()))):\n",
    "        rec_dict_sort[list(rec_dict.keys())[i]]=rec_dict.get(list(rec_dict.keys())[i])[-1][-1]\n",
    "    return min(rec_dict_sort, key=rec_dict_sort.get)"
   ]
  },
  {
   "cell_type": "code",
   "execution_count": 879,
   "metadata": {},
   "outputs": [
    {
     "data": {
      "text/plain": [
       "'Snakes'"
      ]
     },
     "execution_count": 879,
     "metadata": {},
     "output_type": "execute_result"
    }
   ],
   "source": [
    "CosineRecommend()"
   ]
  },
  {
   "cell_type": "markdown",
   "metadata": {},
   "source": [
    "# Question 3"
   ]
  },
  {
   "cell_type": "code",
   "execution_count": 880,
   "metadata": {},
   "outputs": [
    {
     "data": {
      "text/html": [
       "<div>\n",
       "<style scoped>\n",
       "    .dataframe tbody tr th:only-of-type {\n",
       "        vertical-align: middle;\n",
       "    }\n",
       "\n",
       "    .dataframe tbody tr th {\n",
       "        vertical-align: top;\n",
       "    }\n",
       "\n",
       "    .dataframe thead th {\n",
       "        text-align: right;\n",
       "    }\n",
       "</style>\n",
       "<table border=\"1\" class=\"dataframe\">\n",
       "  <thead>\n",
       "    <tr style=\"text-align: right;\">\n",
       "      <th></th>\n",
       "      <th>Angelica</th>\n",
       "      <th>Bill</th>\n",
       "      <th>Chan</th>\n",
       "      <th>Dan</th>\n",
       "      <th>Hailey</th>\n",
       "      <th>Jordyn</th>\n",
       "      <th>Sam</th>\n",
       "      <th>Veronica</th>\n",
       "    </tr>\n",
       "  </thead>\n",
       "  <tbody>\n",
       "    <tr>\n",
       "      <th>Blue Traveler</th>\n",
       "      <td>3.5</td>\n",
       "      <td>2.0</td>\n",
       "      <td>5.0</td>\n",
       "      <td>3.0</td>\n",
       "      <td>NaN</td>\n",
       "      <td>NaN</td>\n",
       "      <td>5.0</td>\n",
       "      <td>3.0</td>\n",
       "    </tr>\n",
       "    <tr>\n",
       "      <th>Broken Bells</th>\n",
       "      <td>2.0</td>\n",
       "      <td>3.5</td>\n",
       "      <td>1.0</td>\n",
       "      <td>4.0</td>\n",
       "      <td>4.0</td>\n",
       "      <td>4.5</td>\n",
       "      <td>2.0</td>\n",
       "      <td>NaN</td>\n",
       "    </tr>\n",
       "    <tr>\n",
       "      <th>Deadmau5</th>\n",
       "      <td>NaN</td>\n",
       "      <td>4.0</td>\n",
       "      <td>1.0</td>\n",
       "      <td>4.5</td>\n",
       "      <td>1.0</td>\n",
       "      <td>4.0</td>\n",
       "      <td>NaN</td>\n",
       "      <td>NaN</td>\n",
       "    </tr>\n",
       "    <tr>\n",
       "      <th>Norah Jones</th>\n",
       "      <td>4.5</td>\n",
       "      <td>NaN</td>\n",
       "      <td>3.0</td>\n",
       "      <td>NaN</td>\n",
       "      <td>4.0</td>\n",
       "      <td>5.0</td>\n",
       "      <td>3.0</td>\n",
       "      <td>5.0</td>\n",
       "    </tr>\n",
       "    <tr>\n",
       "      <th>Phoenix</th>\n",
       "      <td>5.0</td>\n",
       "      <td>2.0</td>\n",
       "      <td>5.0</td>\n",
       "      <td>3.0</td>\n",
       "      <td>NaN</td>\n",
       "      <td>5.0</td>\n",
       "      <td>5.0</td>\n",
       "      <td>4.0</td>\n",
       "    </tr>\n",
       "    <tr>\n",
       "      <th>Slightly Stoopid</th>\n",
       "      <td>1.5</td>\n",
       "      <td>3.5</td>\n",
       "      <td>1.0</td>\n",
       "      <td>4.5</td>\n",
       "      <td>NaN</td>\n",
       "      <td>4.5</td>\n",
       "      <td>4.0</td>\n",
       "      <td>2.5</td>\n",
       "    </tr>\n",
       "    <tr>\n",
       "      <th>The Strokes</th>\n",
       "      <td>2.5</td>\n",
       "      <td>NaN</td>\n",
       "      <td>NaN</td>\n",
       "      <td>4.0</td>\n",
       "      <td>4.0</td>\n",
       "      <td>4.0</td>\n",
       "      <td>5.0</td>\n",
       "      <td>3.0</td>\n",
       "    </tr>\n",
       "    <tr>\n",
       "      <th>Vampire Weekend</th>\n",
       "      <td>2.0</td>\n",
       "      <td>3.0</td>\n",
       "      <td>NaN</td>\n",
       "      <td>2.0</td>\n",
       "      <td>1.0</td>\n",
       "      <td>4.0</td>\n",
       "      <td>NaN</td>\n",
       "      <td>NaN</td>\n",
       "    </tr>\n",
       "  </tbody>\n",
       "</table>\n",
       "</div>"
      ],
      "text/plain": [
       "                  Angelica  Bill  Chan  Dan  Hailey  Jordyn  Sam  Veronica\n",
       "Blue Traveler          3.5   2.0   5.0  3.0     NaN     NaN  5.0       3.0\n",
       "Broken Bells           2.0   3.5   1.0  4.0     4.0     4.5  2.0       NaN\n",
       "Deadmau5               NaN   4.0   1.0  4.5     1.0     4.0  NaN       NaN\n",
       "Norah Jones            4.5   NaN   3.0  NaN     4.0     5.0  3.0       5.0\n",
       "Phoenix                5.0   2.0   5.0  3.0     NaN     5.0  5.0       4.0\n",
       "Slightly Stoopid       1.5   3.5   1.0  4.5     NaN     4.5  4.0       2.5\n",
       "The Strokes            2.5   NaN   NaN  4.0     4.0     4.0  5.0       3.0\n",
       "Vampire Weekend        2.0   3.0   NaN  2.0     1.0     4.0  NaN       NaN"
      ]
     },
     "execution_count": 880,
     "metadata": {},
     "output_type": "execute_result"
    }
   ],
   "source": [
    "df=pd.read_csv('data/3.csv',index_col=0)\n",
    "df"
   ]
  },
  {
   "cell_type": "markdown",
   "metadata": {},
   "source": [
    "## 3.1 recommend to Veronica"
   ]
  },
  {
   "cell_type": "code",
   "execution_count": 881,
   "metadata": {},
   "outputs": [
    {
     "name": "stdout",
     "output_type": "stream",
     "text": [
      "Veronica's nearest neighbor is Hailey, thus we recommend the movies: \n"
     ]
    },
    {
     "data": {
      "text/plain": [
       "[('Broken Bells', 4.0), ('Deadmau5', 1.0), ('Vampire Weekend', 1.0)]"
      ]
     },
     "execution_count": 881,
     "metadata": {},
     "output_type": "execute_result"
    }
   ],
   "source": [
    "recommendNearestNeighbor('Veronica',df)"
   ]
  },
  {
   "cell_type": "code",
   "execution_count": 882,
   "metadata": {},
   "outputs": [
    {
     "data": {
      "text/plain": [
       "'Vampire Weekend'"
      ]
     },
     "execution_count": 882,
     "metadata": {},
     "output_type": "execute_result"
    }
   ],
   "source": [
    "Bestrecommend(targetPerson=df['Veronica'],distanceFunction=\"Euclidienne\",data=df)"
   ]
  },
  {
   "cell_type": "code",
   "execution_count": 883,
   "metadata": {},
   "outputs": [
    {
     "data": {
      "text/plain": [
       "'Vampire Weekend'"
      ]
     },
     "execution_count": 883,
     "metadata": {},
     "output_type": "execute_result"
    }
   ],
   "source": [
    "Bestrecommend(targetPerson=df['Veronica'],distanceFunction=\"Manhattan\",data=df)"
   ]
  },
  {
   "cell_type": "code",
   "execution_count": 884,
   "metadata": {},
   "outputs": [
    {
     "data": {
      "text/plain": [
       "'Vampire Weekend'"
      ]
     },
     "execution_count": 884,
     "metadata": {},
     "output_type": "execute_result"
    }
   ],
   "source": [
    "BestrecommendwithExp(targetPerson=df['Veronica'],distanceFunction=\"Euclidienne\",data=df)"
   ]
  },
  {
   "cell_type": "code",
   "execution_count": 885,
   "metadata": {},
   "outputs": [
    {
     "data": {
      "text/plain": [
       "'Vampire Weekend'"
      ]
     },
     "execution_count": 885,
     "metadata": {},
     "output_type": "execute_result"
    }
   ],
   "source": [
    "BestrecommendwithExp(targetPerson=df['Veronica'],distanceFunction=\"Manhattan\",data=df)"
   ]
  },
  {
   "cell_type": "code",
   "execution_count": 886,
   "metadata": {},
   "outputs": [
    {
     "name": "stderr",
     "output_type": "stream",
     "text": [
      "/Library/Frameworks/Python.framework/Versions/3.8/lib/python3.8/site-packages/numpy/lib/function_base.py:2853: RuntimeWarning: invalid value encountered in divide\n",
      "  c /= stddev[:, None]\n",
      "/Library/Frameworks/Python.framework/Versions/3.8/lib/python3.8/site-packages/numpy/lib/function_base.py:2854: RuntimeWarning: invalid value encountered in divide\n",
      "  c /= stddev[None, :]\n"
     ]
    },
    {
     "data": {
      "text/plain": [
       "'Broken Bells'"
      ]
     },
     "execution_count": 886,
     "metadata": {},
     "output_type": "execute_result"
    }
   ],
   "source": [
    "PearsonRecommend(targetPerson=df['Veronica'],data=df)"
   ]
  },
  {
   "cell_type": "code",
   "execution_count": 887,
   "metadata": {},
   "outputs": [
    {
     "data": {
      "text/plain": [
       "'Broken Bells'"
      ]
     },
     "execution_count": 887,
     "metadata": {},
     "output_type": "execute_result"
    }
   ],
   "source": [
    "CosineRecommend(targetPerson=df['Veronica'],data=df)"
   ]
  },
  {
   "cell_type": "markdown",
   "metadata": {},
   "source": [
    "## 3.2 recommend to Hailey"
   ]
  },
  {
   "cell_type": "code",
   "execution_count": 888,
   "metadata": {},
   "outputs": [
    {
     "name": "stdout",
     "output_type": "stream",
     "text": [
      "Hailey's nearest neighbor is Veronica, thus we recommend the movies: \n"
     ]
    },
    {
     "data": {
      "text/plain": [
       "[('Blue Traveler', 3.0), ('Phoenix', 4.0), ('Slightly Stoopid', 2.5)]"
      ]
     },
     "execution_count": 888,
     "metadata": {},
     "output_type": "execute_result"
    }
   ],
   "source": [
    "recommendNearestNeighbor('Hailey',df)"
   ]
  },
  {
   "cell_type": "code",
   "execution_count": 889,
   "metadata": {},
   "outputs": [
    {
     "data": {
      "text/plain": [
       "'Slightly Stoopid'"
      ]
     },
     "execution_count": 889,
     "metadata": {},
     "output_type": "execute_result"
    }
   ],
   "source": [
    "Bestrecommend(targetPerson=df['Hailey'],distanceFunction=\"Euclidienne\",data=df)"
   ]
  },
  {
   "cell_type": "code",
   "execution_count": 890,
   "metadata": {},
   "outputs": [
    {
     "data": {
      "text/plain": [
       "'Slightly Stoopid'"
      ]
     },
     "execution_count": 890,
     "metadata": {},
     "output_type": "execute_result"
    }
   ],
   "source": [
    "Bestrecommend(targetPerson=df['Hailey'],distanceFunction=\"Manhattan\",data=df)"
   ]
  },
  {
   "cell_type": "code",
   "execution_count": 891,
   "metadata": {},
   "outputs": [
    {
     "data": {
      "text/plain": [
       "'Slightly Stoopid'"
      ]
     },
     "execution_count": 891,
     "metadata": {},
     "output_type": "execute_result"
    }
   ],
   "source": [
    "BestrecommendwithExp(targetPerson=df['Hailey'],distanceFunction=\"Euclidienne\",data=df)"
   ]
  },
  {
   "cell_type": "code",
   "execution_count": 892,
   "metadata": {},
   "outputs": [
    {
     "data": {
      "text/plain": [
       "'Slightly Stoopid'"
      ]
     },
     "execution_count": 892,
     "metadata": {},
     "output_type": "execute_result"
    }
   ],
   "source": [
    "BestrecommendwithExp(targetPerson=df['Hailey'],distanceFunction=\"Manhattan\",data=df)"
   ]
  },
  {
   "cell_type": "code",
   "execution_count": 893,
   "metadata": {},
   "outputs": [
    {
     "data": {
      "text/plain": [
       "'Blue Traveler'"
      ]
     },
     "execution_count": 893,
     "metadata": {},
     "output_type": "execute_result"
    }
   ],
   "source": [
    "PearsonRecommend(targetPerson=df['Hailey'],data=df)"
   ]
  },
  {
   "cell_type": "code",
   "execution_count": 894,
   "metadata": {},
   "outputs": [
    {
     "data": {
      "text/plain": [
       "'Blue Traveler'"
      ]
     },
     "execution_count": 894,
     "metadata": {},
     "output_type": "execute_result"
    }
   ],
   "source": [
    "CosineRecommend(targetPerson=df['Hailey'],data=df)"
   ]
  },
  {
   "cell_type": "markdown",
   "metadata": {},
   "source": [
    "# Question 4"
   ]
  },
  {
   "cell_type": "code",
   "execution_count": 895,
   "metadata": {},
   "outputs": [],
   "source": [
    "def ElaborateMyOwnExample(m,n,p,count=0):\n",
    "    while True:\n",
    "        count=count+1\n",
    "        print(\"There has been No.{} times try to generate new data\".format(count))\n",
    "        df=pd.DataFrame(index=range(m),columns=range(n))\n",
    "        for i in range(0,m):\n",
    "            for j in range(0,n):\n",
    "                if random.random()>p:\n",
    "                    df.iloc[i,j]=random.randint(0,50)/5\n",
    "        if df.isnull().sum().sum()>=0.3*m*n and df.isnull().sum().sum()<=0.5*m*n and df.isnull().all(axis='columns').any()==False:\n",
    "            break\n",
    "    while True:\n",
    "        for j in range(0,n):\n",
    "            if df[j].isnull().sum()>0.5/m:\n",
    "                res_list=[\n",
    "                Bestrecommend(targetPerson=df[j],distanceFunction=\"Manhattan\",data=df),\n",
    "                BestrecommendwithExp(targetPerson=df[j],distanceFunction=\"Euclidienne\",data=df),\n",
    "                BestrecommendwithExp(targetPerson=df[j],distanceFunction=\"Manhattan\",data=df),\n",
    "                PearsonRecommend(targetPerson=df[j],data=df),\n",
    "                CosineRecommend(targetPerson=df[j],data=df)\n",
    "                ]\n",
    "                if len(res_list) == len(set(res_list)) and len(res_list)!=0:\n",
    "                    return df\n",
    "        if j==n-1:\n",
    "            print(\"****************************\")\n",
    "            print(\"Recommendations are not all different, try again.\".format(count))\n",
    "            ElaborateMyOwnExample(m,n,p,count)\n",
    "            break"
   ]
  },
  {
   "cell_type": "code",
   "execution_count": 896,
   "metadata": {},
   "outputs": [
    {
     "name": "stdout",
     "output_type": "stream",
     "text": [
      "There has been No.1 times try to generate new data\n",
      "There has been No.2 times try to generate new data\n",
      "There has been No.3 times try to generate new data\n"
     ]
    },
    {
     "name": "stderr",
     "output_type": "stream",
     "text": [
      "/Library/Frameworks/Python.framework/Versions/3.8/lib/python3.8/site-packages/numpy/lib/function_base.py:2845: RuntimeWarning: Degrees of freedom <= 0 for slice\n",
      "  c = cov(x, y, rowvar, dtype=dtype)\n",
      "/Library/Frameworks/Python.framework/Versions/3.8/lib/python3.8/site-packages/numpy/lib/function_base.py:2704: RuntimeWarning: divide by zero encountered in divide\n",
      "  c *= np.true_divide(1, fact)\n",
      "/Library/Frameworks/Python.framework/Versions/3.8/lib/python3.8/site-packages/numpy/lib/function_base.py:2704: RuntimeWarning: invalid value encountered in multiply\n",
      "  c *= np.true_divide(1, fact)\n",
      "/Library/Frameworks/Python.framework/Versions/3.8/lib/python3.8/site-packages/numpy/lib/function_base.py:518: RuntimeWarning: Mean of empty slice.\n",
      "  avg = a.mean(axis, **keepdims_kw)\n",
      "/Library/Frameworks/Python.framework/Versions/3.8/lib/python3.8/site-packages/numpy/core/_methods.py:182: RuntimeWarning: invalid value encountered in divide\n",
      "  ret = um.true_divide(\n"
     ]
    },
    {
     "data": {
      "text/html": [
       "<div>\n",
       "<style scoped>\n",
       "    .dataframe tbody tr th:only-of-type {\n",
       "        vertical-align: middle;\n",
       "    }\n",
       "\n",
       "    .dataframe tbody tr th {\n",
       "        vertical-align: top;\n",
       "    }\n",
       "\n",
       "    .dataframe thead th {\n",
       "        text-align: right;\n",
       "    }\n",
       "</style>\n",
       "<table border=\"1\" class=\"dataframe\">\n",
       "  <thead>\n",
       "    <tr style=\"text-align: right;\">\n",
       "      <th></th>\n",
       "      <th>0</th>\n",
       "      <th>1</th>\n",
       "      <th>2</th>\n",
       "      <th>3</th>\n",
       "      <th>4</th>\n",
       "      <th>5</th>\n",
       "      <th>6</th>\n",
       "      <th>7</th>\n",
       "      <th>8</th>\n",
       "      <th>9</th>\n",
       "      <th>10</th>\n",
       "      <th>11</th>\n",
       "      <th>12</th>\n",
       "      <th>13</th>\n",
       "      <th>14</th>\n",
       "      <th>15</th>\n",
       "      <th>16</th>\n",
       "      <th>17</th>\n",
       "      <th>18</th>\n",
       "      <th>19</th>\n",
       "    </tr>\n",
       "  </thead>\n",
       "  <tbody>\n",
       "    <tr>\n",
       "      <th>0</th>\n",
       "      <td>NaN</td>\n",
       "      <td>NaN</td>\n",
       "      <td>NaN</td>\n",
       "      <td>1.4</td>\n",
       "      <td>NaN</td>\n",
       "      <td>1.0</td>\n",
       "      <td>7.4</td>\n",
       "      <td>6.6</td>\n",
       "      <td>7.8</td>\n",
       "      <td>5.2</td>\n",
       "      <td>NaN</td>\n",
       "      <td>8.6</td>\n",
       "      <td>2.0</td>\n",
       "      <td>NaN</td>\n",
       "      <td>8.6</td>\n",
       "      <td>1.8</td>\n",
       "      <td>NaN</td>\n",
       "      <td>1.0</td>\n",
       "      <td>NaN</td>\n",
       "      <td>6.8</td>\n",
       "    </tr>\n",
       "    <tr>\n",
       "      <th>1</th>\n",
       "      <td>NaN</td>\n",
       "      <td>NaN</td>\n",
       "      <td>5.2</td>\n",
       "      <td>0.6</td>\n",
       "      <td>4.2</td>\n",
       "      <td>4.4</td>\n",
       "      <td>NaN</td>\n",
       "      <td>2.2</td>\n",
       "      <td>NaN</td>\n",
       "      <td>NaN</td>\n",
       "      <td>1.6</td>\n",
       "      <td>2.0</td>\n",
       "      <td>7.4</td>\n",
       "      <td>NaN</td>\n",
       "      <td>NaN</td>\n",
       "      <td>NaN</td>\n",
       "      <td>1.8</td>\n",
       "      <td>NaN</td>\n",
       "      <td>5.8</td>\n",
       "      <td>1.6</td>\n",
       "    </tr>\n",
       "    <tr>\n",
       "      <th>2</th>\n",
       "      <td>NaN</td>\n",
       "      <td>0.0</td>\n",
       "      <td>NaN</td>\n",
       "      <td>2.0</td>\n",
       "      <td>5.0</td>\n",
       "      <td>6.8</td>\n",
       "      <td>NaN</td>\n",
       "      <td>8.4</td>\n",
       "      <td>4.6</td>\n",
       "      <td>4.8</td>\n",
       "      <td>6.6</td>\n",
       "      <td>0.6</td>\n",
       "      <td>NaN</td>\n",
       "      <td>NaN</td>\n",
       "      <td>NaN</td>\n",
       "      <td>10.0</td>\n",
       "      <td>NaN</td>\n",
       "      <td>NaN</td>\n",
       "      <td>5.4</td>\n",
       "      <td>10.0</td>\n",
       "    </tr>\n",
       "    <tr>\n",
       "      <th>3</th>\n",
       "      <td>6.4</td>\n",
       "      <td>7.2</td>\n",
       "      <td>NaN</td>\n",
       "      <td>NaN</td>\n",
       "      <td>8.6</td>\n",
       "      <td>NaN</td>\n",
       "      <td>NaN</td>\n",
       "      <td>2.6</td>\n",
       "      <td>1.4</td>\n",
       "      <td>2.0</td>\n",
       "      <td>NaN</td>\n",
       "      <td>NaN</td>\n",
       "      <td>0.4</td>\n",
       "      <td>5.4</td>\n",
       "      <td>3.0</td>\n",
       "      <td>4.4</td>\n",
       "      <td>NaN</td>\n",
       "      <td>1.8</td>\n",
       "      <td>NaN</td>\n",
       "      <td>9.0</td>\n",
       "    </tr>\n",
       "    <tr>\n",
       "      <th>4</th>\n",
       "      <td>8.0</td>\n",
       "      <td>5.6</td>\n",
       "      <td>0.4</td>\n",
       "      <td>NaN</td>\n",
       "      <td>NaN</td>\n",
       "      <td>NaN</td>\n",
       "      <td>NaN</td>\n",
       "      <td>NaN</td>\n",
       "      <td>NaN</td>\n",
       "      <td>6.6</td>\n",
       "      <td>NaN</td>\n",
       "      <td>NaN</td>\n",
       "      <td>NaN</td>\n",
       "      <td>NaN</td>\n",
       "      <td>3.8</td>\n",
       "      <td>5.4</td>\n",
       "      <td>2.2</td>\n",
       "      <td>NaN</td>\n",
       "      <td>NaN</td>\n",
       "      <td>NaN</td>\n",
       "    </tr>\n",
       "    <tr>\n",
       "      <th>5</th>\n",
       "      <td>NaN</td>\n",
       "      <td>0.0</td>\n",
       "      <td>NaN</td>\n",
       "      <td>7.8</td>\n",
       "      <td>6.6</td>\n",
       "      <td>9.8</td>\n",
       "      <td>7.6</td>\n",
       "      <td>7.2</td>\n",
       "      <td>6.8</td>\n",
       "      <td>0.8</td>\n",
       "      <td>NaN</td>\n",
       "      <td>0.4</td>\n",
       "      <td>NaN</td>\n",
       "      <td>NaN</td>\n",
       "      <td>9.2</td>\n",
       "      <td>NaN</td>\n",
       "      <td>NaN</td>\n",
       "      <td>8.2</td>\n",
       "      <td>9.4</td>\n",
       "      <td>NaN</td>\n",
       "    </tr>\n",
       "    <tr>\n",
       "      <th>6</th>\n",
       "      <td>4.0</td>\n",
       "      <td>6.2</td>\n",
       "      <td>NaN</td>\n",
       "      <td>3.6</td>\n",
       "      <td>NaN</td>\n",
       "      <td>NaN</td>\n",
       "      <td>NaN</td>\n",
       "      <td>NaN</td>\n",
       "      <td>1.4</td>\n",
       "      <td>NaN</td>\n",
       "      <td>NaN</td>\n",
       "      <td>NaN</td>\n",
       "      <td>NaN</td>\n",
       "      <td>3.8</td>\n",
       "      <td>1.8</td>\n",
       "      <td>NaN</td>\n",
       "      <td>NaN</td>\n",
       "      <td>1.2</td>\n",
       "      <td>NaN</td>\n",
       "      <td>5.8</td>\n",
       "    </tr>\n",
       "    <tr>\n",
       "      <th>7</th>\n",
       "      <td>0.4</td>\n",
       "      <td>2.4</td>\n",
       "      <td>NaN</td>\n",
       "      <td>NaN</td>\n",
       "      <td>3.2</td>\n",
       "      <td>7.2</td>\n",
       "      <td>NaN</td>\n",
       "      <td>7.6</td>\n",
       "      <td>NaN</td>\n",
       "      <td>NaN</td>\n",
       "      <td>2.4</td>\n",
       "      <td>9.6</td>\n",
       "      <td>7.6</td>\n",
       "      <td>7.6</td>\n",
       "      <td>2.0</td>\n",
       "      <td>7.0</td>\n",
       "      <td>7.8</td>\n",
       "      <td>NaN</td>\n",
       "      <td>4.0</td>\n",
       "      <td>NaN</td>\n",
       "    </tr>\n",
       "    <tr>\n",
       "      <th>8</th>\n",
       "      <td>NaN</td>\n",
       "      <td>10.0</td>\n",
       "      <td>3.8</td>\n",
       "      <td>NaN</td>\n",
       "      <td>NaN</td>\n",
       "      <td>NaN</td>\n",
       "      <td>2.0</td>\n",
       "      <td>NaN</td>\n",
       "      <td>NaN</td>\n",
       "      <td>7.0</td>\n",
       "      <td>NaN</td>\n",
       "      <td>NaN</td>\n",
       "      <td>NaN</td>\n",
       "      <td>2.6</td>\n",
       "      <td>8.4</td>\n",
       "      <td>NaN</td>\n",
       "      <td>NaN</td>\n",
       "      <td>0.6</td>\n",
       "      <td>10.0</td>\n",
       "      <td>10.0</td>\n",
       "    </tr>\n",
       "    <tr>\n",
       "      <th>9</th>\n",
       "      <td>NaN</td>\n",
       "      <td>NaN</td>\n",
       "      <td>NaN</td>\n",
       "      <td>NaN</td>\n",
       "      <td>2.4</td>\n",
       "      <td>8.8</td>\n",
       "      <td>0.4</td>\n",
       "      <td>2.2</td>\n",
       "      <td>0.4</td>\n",
       "      <td>1.2</td>\n",
       "      <td>4.6</td>\n",
       "      <td>NaN</td>\n",
       "      <td>9.2</td>\n",
       "      <td>NaN</td>\n",
       "      <td>1.0</td>\n",
       "      <td>3.6</td>\n",
       "      <td>NaN</td>\n",
       "      <td>1.6</td>\n",
       "      <td>0.4</td>\n",
       "      <td>2.2</td>\n",
       "    </tr>\n",
       "    <tr>\n",
       "      <th>10</th>\n",
       "      <td>NaN</td>\n",
       "      <td>5.8</td>\n",
       "      <td>7.4</td>\n",
       "      <td>7.6</td>\n",
       "      <td>NaN</td>\n",
       "      <td>0.0</td>\n",
       "      <td>NaN</td>\n",
       "      <td>2.0</td>\n",
       "      <td>4.4</td>\n",
       "      <td>0.4</td>\n",
       "      <td>1.6</td>\n",
       "      <td>5.8</td>\n",
       "      <td>NaN</td>\n",
       "      <td>NaN</td>\n",
       "      <td>4.8</td>\n",
       "      <td>3.0</td>\n",
       "      <td>1.4</td>\n",
       "      <td>8.0</td>\n",
       "      <td>4.8</td>\n",
       "      <td>NaN</td>\n",
       "    </tr>\n",
       "    <tr>\n",
       "      <th>11</th>\n",
       "      <td>2.6</td>\n",
       "      <td>2.0</td>\n",
       "      <td>6.2</td>\n",
       "      <td>NaN</td>\n",
       "      <td>5.2</td>\n",
       "      <td>NaN</td>\n",
       "      <td>NaN</td>\n",
       "      <td>NaN</td>\n",
       "      <td>9.2</td>\n",
       "      <td>1.6</td>\n",
       "      <td>4.4</td>\n",
       "      <td>NaN</td>\n",
       "      <td>8.8</td>\n",
       "      <td>4.4</td>\n",
       "      <td>NaN</td>\n",
       "      <td>NaN</td>\n",
       "      <td>NaN</td>\n",
       "      <td>4.2</td>\n",
       "      <td>NaN</td>\n",
       "      <td>NaN</td>\n",
       "    </tr>\n",
       "    <tr>\n",
       "      <th>12</th>\n",
       "      <td>2.2</td>\n",
       "      <td>NaN</td>\n",
       "      <td>NaN</td>\n",
       "      <td>NaN</td>\n",
       "      <td>NaN</td>\n",
       "      <td>NaN</td>\n",
       "      <td>NaN</td>\n",
       "      <td>3.4</td>\n",
       "      <td>2.2</td>\n",
       "      <td>NaN</td>\n",
       "      <td>NaN</td>\n",
       "      <td>NaN</td>\n",
       "      <td>NaN</td>\n",
       "      <td>NaN</td>\n",
       "      <td>NaN</td>\n",
       "      <td>NaN</td>\n",
       "      <td>4.4</td>\n",
       "      <td>NaN</td>\n",
       "      <td>NaN</td>\n",
       "      <td>7.6</td>\n",
       "    </tr>\n",
       "    <tr>\n",
       "      <th>13</th>\n",
       "      <td>NaN</td>\n",
       "      <td>NaN</td>\n",
       "      <td>9.4</td>\n",
       "      <td>9.0</td>\n",
       "      <td>1.0</td>\n",
       "      <td>5.4</td>\n",
       "      <td>NaN</td>\n",
       "      <td>5.4</td>\n",
       "      <td>5.0</td>\n",
       "      <td>NaN</td>\n",
       "      <td>NaN</td>\n",
       "      <td>NaN</td>\n",
       "      <td>6.2</td>\n",
       "      <td>NaN</td>\n",
       "      <td>NaN</td>\n",
       "      <td>NaN</td>\n",
       "      <td>7.8</td>\n",
       "      <td>NaN</td>\n",
       "      <td>2.6</td>\n",
       "      <td>NaN</td>\n",
       "    </tr>\n",
       "    <tr>\n",
       "      <th>14</th>\n",
       "      <td>3.4</td>\n",
       "      <td>NaN</td>\n",
       "      <td>NaN</td>\n",
       "      <td>NaN</td>\n",
       "      <td>1.8</td>\n",
       "      <td>NaN</td>\n",
       "      <td>1.4</td>\n",
       "      <td>4.8</td>\n",
       "      <td>NaN</td>\n",
       "      <td>1.6</td>\n",
       "      <td>NaN</td>\n",
       "      <td>NaN</td>\n",
       "      <td>NaN</td>\n",
       "      <td>NaN</td>\n",
       "      <td>8.0</td>\n",
       "      <td>NaN</td>\n",
       "      <td>NaN</td>\n",
       "      <td>NaN</td>\n",
       "      <td>4.6</td>\n",
       "      <td>NaN</td>\n",
       "    </tr>\n",
       "  </tbody>\n",
       "</table>\n",
       "</div>"
      ],
      "text/plain": [
       "     0     1    2    3    4    5    6    7    8    9    10   11   12   13  \\\n",
       "0   NaN   NaN  NaN  1.4  NaN  1.0  7.4  6.6  7.8  5.2  NaN  8.6  2.0  NaN   \n",
       "1   NaN   NaN  5.2  0.6  4.2  4.4  NaN  2.2  NaN  NaN  1.6  2.0  7.4  NaN   \n",
       "2   NaN   0.0  NaN  2.0  5.0  6.8  NaN  8.4  4.6  4.8  6.6  0.6  NaN  NaN   \n",
       "3   6.4   7.2  NaN  NaN  8.6  NaN  NaN  2.6  1.4  2.0  NaN  NaN  0.4  5.4   \n",
       "4   8.0   5.6  0.4  NaN  NaN  NaN  NaN  NaN  NaN  6.6  NaN  NaN  NaN  NaN   \n",
       "5   NaN   0.0  NaN  7.8  6.6  9.8  7.6  7.2  6.8  0.8  NaN  0.4  NaN  NaN   \n",
       "6   4.0   6.2  NaN  3.6  NaN  NaN  NaN  NaN  1.4  NaN  NaN  NaN  NaN  3.8   \n",
       "7   0.4   2.4  NaN  NaN  3.2  7.2  NaN  7.6  NaN  NaN  2.4  9.6  7.6  7.6   \n",
       "8   NaN  10.0  3.8  NaN  NaN  NaN  2.0  NaN  NaN  7.0  NaN  NaN  NaN  2.6   \n",
       "9   NaN   NaN  NaN  NaN  2.4  8.8  0.4  2.2  0.4  1.2  4.6  NaN  9.2  NaN   \n",
       "10  NaN   5.8  7.4  7.6  NaN  0.0  NaN  2.0  4.4  0.4  1.6  5.8  NaN  NaN   \n",
       "11  2.6   2.0  6.2  NaN  5.2  NaN  NaN  NaN  9.2  1.6  4.4  NaN  8.8  4.4   \n",
       "12  2.2   NaN  NaN  NaN  NaN  NaN  NaN  3.4  2.2  NaN  NaN  NaN  NaN  NaN   \n",
       "13  NaN   NaN  9.4  9.0  1.0  5.4  NaN  5.4  5.0  NaN  NaN  NaN  6.2  NaN   \n",
       "14  3.4   NaN  NaN  NaN  1.8  NaN  1.4  4.8  NaN  1.6  NaN  NaN  NaN  NaN   \n",
       "\n",
       "     14    15   16   17    18    19  \n",
       "0   8.6   1.8  NaN  1.0   NaN   6.8  \n",
       "1   NaN   NaN  1.8  NaN   5.8   1.6  \n",
       "2   NaN  10.0  NaN  NaN   5.4  10.0  \n",
       "3   3.0   4.4  NaN  1.8   NaN   9.0  \n",
       "4   3.8   5.4  2.2  NaN   NaN   NaN  \n",
       "5   9.2   NaN  NaN  8.2   9.4   NaN  \n",
       "6   1.8   NaN  NaN  1.2   NaN   5.8  \n",
       "7   2.0   7.0  7.8  NaN   4.0   NaN  \n",
       "8   8.4   NaN  NaN  0.6  10.0  10.0  \n",
       "9   1.0   3.6  NaN  1.6   0.4   2.2  \n",
       "10  4.8   3.0  1.4  8.0   4.8   NaN  \n",
       "11  NaN   NaN  NaN  4.2   NaN   NaN  \n",
       "12  NaN   NaN  4.4  NaN   NaN   7.6  \n",
       "13  NaN   NaN  7.8  NaN   2.6   NaN  \n",
       "14  8.0   NaN  NaN  NaN   4.6   NaN  "
      ]
     },
     "execution_count": 896,
     "metadata": {},
     "output_type": "execute_result"
    }
   ],
   "source": [
    "df=ElaborateMyOwnExample(15,20,0.5,0)\n",
    "df"
   ]
  }
 ],
 "metadata": {
  "kernelspec": {
   "display_name": "Python 3.8.0b2 64-bit",
   "language": "python",
   "name": "python3"
  },
  "language_info": {
   "codemirror_mode": {
    "name": "ipython",
    "version": 3
   },
   "file_extension": ".py",
   "mimetype": "text/x-python",
   "name": "python",
   "nbconvert_exporter": "python",
   "pygments_lexer": "ipython3",
   "version": "3.8.0b2"
  },
  "orig_nbformat": 4,
  "vscode": {
   "interpreter": {
    "hash": "aee8b7b246df8f9039afb4144a1f6fd8d2ca17a180786b69acc140d282b71a49"
   }
  }
 },
 "nbformat": 4,
 "nbformat_minor": 2
}
